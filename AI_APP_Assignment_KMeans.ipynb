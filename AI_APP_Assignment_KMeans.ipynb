{
  "nbformat": 4,
  "nbformat_minor": 0,
  "metadata": {
    "colab": {
      "name": "AI_APP_Assignment_KMeans.ipynb",
      "provenance": [],
      "collapsed_sections": [],
      "authorship_tag": "ABX9TyOydC4XI62TYHsOIuCGtcGu",
      "include_colab_link": true
    },
    "kernelspec": {
      "name": "python3",
      "display_name": "Python 3"
    },
    "language_info": {
      "name": "python"
    }
  },
  "cells": [
    {
      "cell_type": "markdown",
      "metadata": {
        "id": "view-in-github",
        "colab_type": "text"
      },
      "source": [
        "<a href=\"https://colab.research.google.com/github/yuzhenglim/AI_APP_SVM/blob/main/AI_APP_Assignment_KMeans.ipynb\" target=\"_parent\"><img src=\"https://colab.research.google.com/assets/colab-badge.svg\" alt=\"Open In Colab\"/></a>"
      ]
    },
    {
      "cell_type": "code",
      "source": [
        "!mkdir Images"
      ],
      "metadata": {
        "id": "QK7NytwQD98_"
      },
      "execution_count": null,
      "outputs": []
    },
    {
      "cell_type": "code",
      "source": [
        "%cd Images\n"
      ],
      "metadata": {
        "colab": {
          "base_uri": "https://localhost:8080/"
        },
        "id": "4oUcoySUEHqH",
        "outputId": "8d4b3ae4-6e86-4e74-e643-6aa6b2bd7279"
      },
      "execution_count": null,
      "outputs": [
        {
          "output_type": "stream",
          "name": "stdout",
          "text": [
            "/content/Images\n"
          ]
        }
      ]
    },
    {
      "cell_type": "code",
      "source": [
        "!pip install -q jmd_imagescraper"
      ],
      "metadata": {
        "id": "kdP05i3vENS6"
      },
      "execution_count": null,
      "outputs": []
    },
    {
      "cell_type": "code",
      "source": [
        "from pathlib import Path\n",
        "root = Path().cwd()\n",
        "\n",
        "from jmd_imagescraper.core import * # dont't worry, it's designed to work with import *\n",
        "\n",
        "duckduckgo_search(root, \"Desktop Monitors\", \"Computer Monitors\", max_results=200)\n",
        "duckduckgo_search(root, \"Modem\", \"modems\", max_results=200)\n",
        "duckduckgo_search(root, \"Printer\", \"printers\", max_results=200)\n",
        "duckduckgo_search(root, \"Router\", \"routers\", max_results=200)\n",
        "duckduckgo_search(root, \"Desktop\", \"desktops\", max_results=200)\n",
        "duckduckgo_search(root, \"Laptops\", \"laptops\", max_results=200)\n",
        "duckduckgo_search(root, \"Tablets\", \"tablet computers\", max_results=200)"
      ],
      "metadata": {
        "colab": {
          "base_uri": "https://localhost:8080/",
          "height": 1000
        },
        "id": "DSlBwv4EEWzB",
        "outputId": "e2277416-7491-47d0-fe42-0bece8896c90"
      },
      "execution_count": null,
      "outputs": [
        {
          "output_type": "stream",
          "name": "stdout",
          "text": [
            "Duckduckgo search: Computer Monitors\n",
            "Downloading results into /content/Images/Desktop Monitors\n"
          ]
        },
        {
          "output_type": "display_data",
          "data": {
            "text/plain": [
              "<IPython.core.display.HTML object>"
            ],
            "text/html": [
              "\n",
              "<style>\n",
              "    /* Turns off some styling */\n",
              "    progress {\n",
              "        /* gets rid of default border in Firefox and Opera. */\n",
              "        border: none;\n",
              "        /* Needs to be in here for Safari polyfill so background images work as expected. */\n",
              "        background-size: auto;\n",
              "    }\n",
              "    .progress-bar-interrupted, .progress-bar-interrupted::-webkit-progress-bar {\n",
              "        background: #F44336;\n",
              "    }\n",
              "</style>\n"
            ]
          },
          "metadata": {}
        },
        {
          "output_type": "display_data",
          "data": {
            "text/plain": [
              "<IPython.core.display.HTML object>"
            ],
            "text/html": [
              "\n",
              "    <div>\n",
              "      <progress value='200' class='' max='200' style='width:300px; height:20px; vertical-align: middle;'></progress>\n",
              "      100.00% [200/200 00:19<00:00 Images downloaded]\n",
              "    </div>\n",
              "    "
            ]
          },
          "metadata": {}
        },
        {
          "output_type": "stream",
          "name": "stdout",
          "text": [
            "Duckduckgo search: modems\n",
            "Downloading results into /content/Images/Modem\n"
          ]
        },
        {
          "output_type": "display_data",
          "data": {
            "text/plain": [
              "<IPython.core.display.HTML object>"
            ],
            "text/html": [
              "\n",
              "<style>\n",
              "    /* Turns off some styling */\n",
              "    progress {\n",
              "        /* gets rid of default border in Firefox and Opera. */\n",
              "        border: none;\n",
              "        /* Needs to be in here for Safari polyfill so background images work as expected. */\n",
              "        background-size: auto;\n",
              "    }\n",
              "    .progress-bar-interrupted, .progress-bar-interrupted::-webkit-progress-bar {\n",
              "        background: #F44336;\n",
              "    }\n",
              "</style>\n"
            ]
          },
          "metadata": {}
        },
        {
          "output_type": "display_data",
          "data": {
            "text/plain": [
              "<IPython.core.display.HTML object>"
            ],
            "text/html": [
              "\n",
              "    <div>\n",
              "      <progress value='200' class='' max='200' style='width:300px; height:20px; vertical-align: middle;'></progress>\n",
              "      100.00% [200/200 00:18<00:00 Images downloaded]\n",
              "    </div>\n",
              "    "
            ]
          },
          "metadata": {}
        },
        {
          "output_type": "stream",
          "name": "stdout",
          "text": [
            "Duckduckgo search: printers\n",
            "Downloading results into /content/Images/Printer\n"
          ]
        },
        {
          "output_type": "display_data",
          "data": {
            "text/plain": [
              "<IPython.core.display.HTML object>"
            ],
            "text/html": [
              "\n",
              "<style>\n",
              "    /* Turns off some styling */\n",
              "    progress {\n",
              "        /* gets rid of default border in Firefox and Opera. */\n",
              "        border: none;\n",
              "        /* Needs to be in here for Safari polyfill so background images work as expected. */\n",
              "        background-size: auto;\n",
              "    }\n",
              "    .progress-bar-interrupted, .progress-bar-interrupted::-webkit-progress-bar {\n",
              "        background: #F44336;\n",
              "    }\n",
              "</style>\n"
            ]
          },
          "metadata": {}
        },
        {
          "output_type": "display_data",
          "data": {
            "text/plain": [
              "<IPython.core.display.HTML object>"
            ],
            "text/html": [
              "\n",
              "    <div>\n",
              "      <progress value='200' class='' max='200' style='width:300px; height:20px; vertical-align: middle;'></progress>\n",
              "      100.00% [200/200 00:16<00:00 Images downloaded]\n",
              "    </div>\n",
              "    "
            ]
          },
          "metadata": {}
        },
        {
          "output_type": "stream",
          "name": "stdout",
          "text": [
            "Duckduckgo search: routers\n",
            "Downloading results into /content/Images/Router\n"
          ]
        },
        {
          "output_type": "display_data",
          "data": {
            "text/plain": [
              "<IPython.core.display.HTML object>"
            ],
            "text/html": [
              "\n",
              "<style>\n",
              "    /* Turns off some styling */\n",
              "    progress {\n",
              "        /* gets rid of default border in Firefox and Opera. */\n",
              "        border: none;\n",
              "        /* Needs to be in here for Safari polyfill so background images work as expected. */\n",
              "        background-size: auto;\n",
              "    }\n",
              "    .progress-bar-interrupted, .progress-bar-interrupted::-webkit-progress-bar {\n",
              "        background: #F44336;\n",
              "    }\n",
              "</style>\n"
            ]
          },
          "metadata": {}
        },
        {
          "output_type": "display_data",
          "data": {
            "text/plain": [
              "<IPython.core.display.HTML object>"
            ],
            "text/html": [
              "\n",
              "    <div>\n",
              "      <progress value='200' class='' max='200' style='width:300px; height:20px; vertical-align: middle;'></progress>\n",
              "      100.00% [200/200 00:18<00:00 Images downloaded]\n",
              "    </div>\n",
              "    "
            ]
          },
          "metadata": {}
        },
        {
          "output_type": "stream",
          "name": "stdout",
          "text": [
            "Duckduckgo search: desktops\n",
            "Downloading results into /content/Images/Desktop\n"
          ]
        },
        {
          "output_type": "display_data",
          "data": {
            "text/plain": [
              "<IPython.core.display.HTML object>"
            ],
            "text/html": [
              "\n",
              "<style>\n",
              "    /* Turns off some styling */\n",
              "    progress {\n",
              "        /* gets rid of default border in Firefox and Opera. */\n",
              "        border: none;\n",
              "        /* Needs to be in here for Safari polyfill so background images work as expected. */\n",
              "        background-size: auto;\n",
              "    }\n",
              "    .progress-bar-interrupted, .progress-bar-interrupted::-webkit-progress-bar {\n",
              "        background: #F44336;\n",
              "    }\n",
              "</style>\n"
            ]
          },
          "metadata": {}
        },
        {
          "output_type": "display_data",
          "data": {
            "text/plain": [
              "<IPython.core.display.HTML object>"
            ],
            "text/html": [
              "\n",
              "    <div>\n",
              "      <progress value='200' class='' max='200' style='width:300px; height:20px; vertical-align: middle;'></progress>\n",
              "      100.00% [200/200 00:18<00:00 Images downloaded]\n",
              "    </div>\n",
              "    "
            ]
          },
          "metadata": {}
        },
        {
          "output_type": "stream",
          "name": "stdout",
          "text": [
            "Duckduckgo search: laptops\n",
            "Downloading results into /content/Images/Laptops\n"
          ]
        },
        {
          "output_type": "display_data",
          "data": {
            "text/plain": [
              "<IPython.core.display.HTML object>"
            ],
            "text/html": [
              "\n",
              "<style>\n",
              "    /* Turns off some styling */\n",
              "    progress {\n",
              "        /* gets rid of default border in Firefox and Opera. */\n",
              "        border: none;\n",
              "        /* Needs to be in here for Safari polyfill so background images work as expected. */\n",
              "        background-size: auto;\n",
              "    }\n",
              "    .progress-bar-interrupted, .progress-bar-interrupted::-webkit-progress-bar {\n",
              "        background: #F44336;\n",
              "    }\n",
              "</style>\n"
            ]
          },
          "metadata": {}
        },
        {
          "output_type": "display_data",
          "data": {
            "text/plain": [
              "<IPython.core.display.HTML object>"
            ],
            "text/html": [
              "\n",
              "    <div>\n",
              "      <progress value='200' class='' max='200' style='width:300px; height:20px; vertical-align: middle;'></progress>\n",
              "      100.00% [200/200 00:16<00:00 Images downloaded]\n",
              "    </div>\n",
              "    "
            ]
          },
          "metadata": {}
        },
        {
          "output_type": "stream",
          "name": "stdout",
          "text": [
            "Duckduckgo search: tablet computers\n",
            "Downloading results into /content/Images/Tablets\n"
          ]
        },
        {
          "output_type": "display_data",
          "data": {
            "text/plain": [
              "<IPython.core.display.HTML object>"
            ],
            "text/html": [
              "\n",
              "<style>\n",
              "    /* Turns off some styling */\n",
              "    progress {\n",
              "        /* gets rid of default border in Firefox and Opera. */\n",
              "        border: none;\n",
              "        /* Needs to be in here for Safari polyfill so background images work as expected. */\n",
              "        background-size: auto;\n",
              "    }\n",
              "    .progress-bar-interrupted, .progress-bar-interrupted::-webkit-progress-bar {\n",
              "        background: #F44336;\n",
              "    }\n",
              "</style>\n"
            ]
          },
          "metadata": {}
        },
        {
          "output_type": "display_data",
          "data": {
            "text/plain": [
              "<IPython.core.display.HTML object>"
            ],
            "text/html": [
              "\n",
              "    <div>\n",
              "      <progress value='200' class='' max='200' style='width:300px; height:20px; vertical-align: middle;'></progress>\n",
              "      100.00% [200/200 00:15<00:00 Images downloaded]\n",
              "    </div>\n",
              "    "
            ]
          },
          "metadata": {}
        },
        {
          "output_type": "execute_result",
          "data": {
            "text/plain": [
              "[PosixPath('/content/Images/Tablets/001_5995b6ba.jpg'),\n",
              " PosixPath('/content/Images/Tablets/002_ab6d4b7a.jpg'),\n",
              " PosixPath('/content/Images/Tablets/003_5f4ed33f.jpg'),\n",
              " PosixPath('/content/Images/Tablets/004_0e88ea6e.jpg'),\n",
              " PosixPath('/content/Images/Tablets/005_fc1ef8ae.jpg'),\n",
              " PosixPath('/content/Images/Tablets/006_e2b64e60.jpg'),\n",
              " PosixPath('/content/Images/Tablets/007_78be9dcf.jpg'),\n",
              " PosixPath('/content/Images/Tablets/008_fb8792d1.jpg'),\n",
              " PosixPath('/content/Images/Tablets/009_e5f7b043.jpg'),\n",
              " PosixPath('/content/Images/Tablets/010_899898b4.jpg'),\n",
              " PosixPath('/content/Images/Tablets/011_b14bd26e.jpg'),\n",
              " PosixPath('/content/Images/Tablets/012_3ceb9ace.jpg'),\n",
              " PosixPath('/content/Images/Tablets/013_3a191291.jpg'),\n",
              " PosixPath('/content/Images/Tablets/014_43d927db.jpg'),\n",
              " PosixPath('/content/Images/Tablets/015_939df868.jpg'),\n",
              " PosixPath('/content/Images/Tablets/016_a203a198.jpg'),\n",
              " PosixPath('/content/Images/Tablets/017_4dd54329.jpg'),\n",
              " PosixPath('/content/Images/Tablets/018_7649ab50.jpg'),\n",
              " PosixPath('/content/Images/Tablets/019_209d1d30.jpg'),\n",
              " PosixPath('/content/Images/Tablets/020_90e03ab7.jpg'),\n",
              " PosixPath('/content/Images/Tablets/021_f1cda269.jpg'),\n",
              " PosixPath('/content/Images/Tablets/022_1f1396ac.jpg'),\n",
              " PosixPath('/content/Images/Tablets/023_1972cbcb.jpg'),\n",
              " PosixPath('/content/Images/Tablets/024_5f3ca1f6.jpg'),\n",
              " PosixPath('/content/Images/Tablets/025_b9914c0d.jpg'),\n",
              " PosixPath('/content/Images/Tablets/026_949f03eb.jpg'),\n",
              " PosixPath('/content/Images/Tablets/027_e084dbe4.jpg'),\n",
              " PosixPath('/content/Images/Tablets/028_f741680c.jpg'),\n",
              " PosixPath('/content/Images/Tablets/029_6f0c8314.jpg'),\n",
              " PosixPath('/content/Images/Tablets/030_113cf02e.jpg'),\n",
              " PosixPath('/content/Images/Tablets/031_55498ea3.jpg'),\n",
              " PosixPath('/content/Images/Tablets/032_b846e5c7.jpg'),\n",
              " PosixPath('/content/Images/Tablets/033_ea1ba3c5.jpg'),\n",
              " PosixPath('/content/Images/Tablets/034_0540c532.jpg'),\n",
              " PosixPath('/content/Images/Tablets/035_b078c316.jpg'),\n",
              " PosixPath('/content/Images/Tablets/036_cfb3cfb1.jpg'),\n",
              " PosixPath('/content/Images/Tablets/037_dfcaceb1.jpg'),\n",
              " PosixPath('/content/Images/Tablets/038_e8c3008f.jpg'),\n",
              " PosixPath('/content/Images/Tablets/039_f024f065.jpg'),\n",
              " PosixPath('/content/Images/Tablets/040_b22c4ab5.jpg'),\n",
              " PosixPath('/content/Images/Tablets/041_bca570db.jpg'),\n",
              " PosixPath('/content/Images/Tablets/042_cf8041f6.jpg'),\n",
              " PosixPath('/content/Images/Tablets/043_189fa83d.jpg'),\n",
              " PosixPath('/content/Images/Tablets/044_1378085f.jpg'),\n",
              " PosixPath('/content/Images/Tablets/045_d61d5259.jpg'),\n",
              " PosixPath('/content/Images/Tablets/046_dc38b596.jpg'),\n",
              " PosixPath('/content/Images/Tablets/047_37115610.jpg'),\n",
              " PosixPath('/content/Images/Tablets/048_d9d9aac0.jpg'),\n",
              " PosixPath('/content/Images/Tablets/049_8579b33d.jpg'),\n",
              " PosixPath('/content/Images/Tablets/050_4b0610bb.jpg'),\n",
              " PosixPath('/content/Images/Tablets/051_88a7d754.jpg'),\n",
              " PosixPath('/content/Images/Tablets/052_7c58ff74.jpg'),\n",
              " PosixPath('/content/Images/Tablets/053_0a547177.jpg'),\n",
              " PosixPath('/content/Images/Tablets/054_7264baea.jpg'),\n",
              " PosixPath('/content/Images/Tablets/055_7a822e3e.jpg'),\n",
              " PosixPath('/content/Images/Tablets/056_9e619108.jpg'),\n",
              " PosixPath('/content/Images/Tablets/057_6237278c.jpg'),\n",
              " PosixPath('/content/Images/Tablets/058_41f26cfe.jpg'),\n",
              " PosixPath('/content/Images/Tablets/059_cadcd8d6.jpg'),\n",
              " PosixPath('/content/Images/Tablets/060_67a75adc.jpg'),\n",
              " PosixPath('/content/Images/Tablets/061_9eba2560.jpg'),\n",
              " PosixPath('/content/Images/Tablets/062_cac9c001.jpg'),\n",
              " PosixPath('/content/Images/Tablets/063_26c415ef.jpg'),\n",
              " PosixPath('/content/Images/Tablets/064_14f63ab2.jpg'),\n",
              " PosixPath('/content/Images/Tablets/065_61c3e18f.jpg'),\n",
              " PosixPath('/content/Images/Tablets/066_d55ef094.jpg'),\n",
              " PosixPath('/content/Images/Tablets/067_26bee8e5.jpg'),\n",
              " PosixPath('/content/Images/Tablets/068_b9f78870.jpg'),\n",
              " PosixPath('/content/Images/Tablets/069_f894c104.jpg'),\n",
              " PosixPath('/content/Images/Tablets/070_e3f9b5c5.jpg'),\n",
              " PosixPath('/content/Images/Tablets/071_c59d120d.jpg'),\n",
              " PosixPath('/content/Images/Tablets/072_89ff40c4.jpg'),\n",
              " PosixPath('/content/Images/Tablets/073_3adf37b9.jpg'),\n",
              " PosixPath('/content/Images/Tablets/074_a269e115.jpg'),\n",
              " PosixPath('/content/Images/Tablets/075_2d750fcc.jpg'),\n",
              " PosixPath('/content/Images/Tablets/076_762411c0.jpg'),\n",
              " PosixPath('/content/Images/Tablets/077_ed438a80.jpg'),\n",
              " PosixPath('/content/Images/Tablets/078_6fa07e6a.jpg'),\n",
              " PosixPath('/content/Images/Tablets/079_1010b77a.jpg'),\n",
              " PosixPath('/content/Images/Tablets/080_6d599262.jpg'),\n",
              " PosixPath('/content/Images/Tablets/081_47b4a9cf.jpg'),\n",
              " PosixPath('/content/Images/Tablets/082_44509e10.jpg'),\n",
              " PosixPath('/content/Images/Tablets/083_5412b5cd.jpg'),\n",
              " PosixPath('/content/Images/Tablets/084_0d5651f6.jpg'),\n",
              " PosixPath('/content/Images/Tablets/085_498a61cc.jpg'),\n",
              " PosixPath('/content/Images/Tablets/086_0ea095d5.jpg'),\n",
              " PosixPath('/content/Images/Tablets/087_061d87cb.jpg'),\n",
              " PosixPath('/content/Images/Tablets/088_b17e7f5c.jpg'),\n",
              " PosixPath('/content/Images/Tablets/089_2100cfbe.jpg'),\n",
              " PosixPath('/content/Images/Tablets/090_b58ec058.jpg'),\n",
              " PosixPath('/content/Images/Tablets/091_72c66e2d.jpg'),\n",
              " PosixPath('/content/Images/Tablets/092_09e22c19.jpg'),\n",
              " PosixPath('/content/Images/Tablets/093_7382f332.jpg'),\n",
              " PosixPath('/content/Images/Tablets/094_c7449703.jpg'),\n",
              " PosixPath('/content/Images/Tablets/095_e1a1e3d4.jpg'),\n",
              " PosixPath('/content/Images/Tablets/096_03a6b0e4.jpg'),\n",
              " PosixPath('/content/Images/Tablets/097_31ed2d63.jpg'),\n",
              " PosixPath('/content/Images/Tablets/098_6715d395.jpg'),\n",
              " PosixPath('/content/Images/Tablets/099_4563e640.jpg'),\n",
              " PosixPath('/content/Images/Tablets/100_f8a659d3.jpg'),\n",
              " PosixPath('/content/Images/Tablets/101_adb29687.jpg'),\n",
              " PosixPath('/content/Images/Tablets/102_6c641c38.jpg'),\n",
              " PosixPath('/content/Images/Tablets/103_fe63c0dd.jpg'),\n",
              " PosixPath('/content/Images/Tablets/104_258b8066.jpg'),\n",
              " PosixPath('/content/Images/Tablets/105_72bbbf78.jpg'),\n",
              " PosixPath('/content/Images/Tablets/106_f2e5aac9.jpg'),\n",
              " PosixPath('/content/Images/Tablets/107_d26fddf4.jpg'),\n",
              " PosixPath('/content/Images/Tablets/108_600e1be0.jpg'),\n",
              " PosixPath('/content/Images/Tablets/109_a858bd9c.jpg'),\n",
              " PosixPath('/content/Images/Tablets/110_a7d3ff39.jpg'),\n",
              " PosixPath('/content/Images/Tablets/111_0cd7a759.jpg'),\n",
              " PosixPath('/content/Images/Tablets/112_2e4f5292.jpg'),\n",
              " PosixPath('/content/Images/Tablets/113_1b85e519.jpg'),\n",
              " PosixPath('/content/Images/Tablets/114_f8df0a32.jpg'),\n",
              " PosixPath('/content/Images/Tablets/115_78bb16db.jpg'),\n",
              " PosixPath('/content/Images/Tablets/116_e13f12f4.jpg'),\n",
              " PosixPath('/content/Images/Tablets/117_bb677ea7.jpg'),\n",
              " PosixPath('/content/Images/Tablets/118_c48f105d.jpg'),\n",
              " PosixPath('/content/Images/Tablets/119_9a417968.jpg'),\n",
              " PosixPath('/content/Images/Tablets/120_114a8a15.jpg'),\n",
              " PosixPath('/content/Images/Tablets/121_8ec19e53.jpg'),\n",
              " PosixPath('/content/Images/Tablets/122_bcc460a8.jpg'),\n",
              " PosixPath('/content/Images/Tablets/123_1c3ae15d.jpg'),\n",
              " PosixPath('/content/Images/Tablets/124_02d71487.jpg'),\n",
              " PosixPath('/content/Images/Tablets/125_de2c707e.jpg'),\n",
              " PosixPath('/content/Images/Tablets/126_f15ef745.jpg'),\n",
              " PosixPath('/content/Images/Tablets/127_547fe728.jpg'),\n",
              " PosixPath('/content/Images/Tablets/128_f44dffa6.jpg'),\n",
              " PosixPath('/content/Images/Tablets/129_a8be39e5.jpg'),\n",
              " PosixPath('/content/Images/Tablets/130_d005ddfa.jpg'),\n",
              " PosixPath('/content/Images/Tablets/131_b0bd151c.jpg'),\n",
              " PosixPath('/content/Images/Tablets/132_5bf494d8.jpg'),\n",
              " PosixPath('/content/Images/Tablets/133_c73f0343.jpg'),\n",
              " PosixPath('/content/Images/Tablets/134_83d9034a.jpg'),\n",
              " PosixPath('/content/Images/Tablets/135_e35550d3.jpg'),\n",
              " PosixPath('/content/Images/Tablets/136_c0553958.jpg'),\n",
              " PosixPath('/content/Images/Tablets/137_fd464f4a.jpg'),\n",
              " PosixPath('/content/Images/Tablets/138_b82717c9.jpg'),\n",
              " PosixPath('/content/Images/Tablets/139_b9801469.jpg'),\n",
              " PosixPath('/content/Images/Tablets/140_8272dad5.jpg'),\n",
              " PosixPath('/content/Images/Tablets/141_d199311d.jpg'),\n",
              " PosixPath('/content/Images/Tablets/142_02eedcc7.jpg'),\n",
              " PosixPath('/content/Images/Tablets/143_e185159e.jpg'),\n",
              " PosixPath('/content/Images/Tablets/144_13602aac.jpg'),\n",
              " PosixPath('/content/Images/Tablets/145_ed69f389.jpg'),\n",
              " PosixPath('/content/Images/Tablets/146_aa8a514e.jpg'),\n",
              " PosixPath('/content/Images/Tablets/147_c9b7ca2b.jpg'),\n",
              " PosixPath('/content/Images/Tablets/148_b0ac55af.jpg'),\n",
              " PosixPath('/content/Images/Tablets/149_f9630514.jpg'),\n",
              " PosixPath('/content/Images/Tablets/150_d96875a8.jpg'),\n",
              " PosixPath('/content/Images/Tablets/151_bf8d3a5a.jpg'),\n",
              " PosixPath('/content/Images/Tablets/152_b840baab.jpg'),\n",
              " PosixPath('/content/Images/Tablets/153_8c08f4d2.jpg'),\n",
              " PosixPath('/content/Images/Tablets/154_86a3ad0d.jpg'),\n",
              " PosixPath('/content/Images/Tablets/155_b8f293ef.jpg'),\n",
              " PosixPath('/content/Images/Tablets/156_f93c397a.jpg'),\n",
              " PosixPath('/content/Images/Tablets/157_6e3de717.jpg'),\n",
              " PosixPath('/content/Images/Tablets/158_2ad718f7.jpg'),\n",
              " PosixPath('/content/Images/Tablets/159_876a68da.jpg'),\n",
              " PosixPath('/content/Images/Tablets/160_903b6e1c.jpg'),\n",
              " PosixPath('/content/Images/Tablets/161_bbd4ca69.jpg'),\n",
              " PosixPath('/content/Images/Tablets/162_5cc3d758.jpg'),\n",
              " PosixPath('/content/Images/Tablets/163_7082cf3e.jpg'),\n",
              " PosixPath('/content/Images/Tablets/164_4cbacc3f.jpg'),\n",
              " PosixPath('/content/Images/Tablets/165_7e48745b.jpg'),\n",
              " PosixPath('/content/Images/Tablets/166_68b2104d.jpg'),\n",
              " PosixPath('/content/Images/Tablets/167_4eff9688.jpg'),\n",
              " PosixPath('/content/Images/Tablets/168_f4299e22.jpg'),\n",
              " PosixPath('/content/Images/Tablets/169_d00de105.jpg'),\n",
              " PosixPath('/content/Images/Tablets/170_dae6e10b.jpg'),\n",
              " PosixPath('/content/Images/Tablets/171_85e7136d.jpg'),\n",
              " PosixPath('/content/Images/Tablets/172_8ff753fd.jpg'),\n",
              " PosixPath('/content/Images/Tablets/173_60cedaa3.jpg'),\n",
              " PosixPath('/content/Images/Tablets/174_5344a1c9.jpg'),\n",
              " PosixPath('/content/Images/Tablets/175_830d3dd5.jpg'),\n",
              " PosixPath('/content/Images/Tablets/176_6079cd71.jpg'),\n",
              " PosixPath('/content/Images/Tablets/177_ddb2adaa.jpg'),\n",
              " PosixPath('/content/Images/Tablets/178_2c37d363.jpg'),\n",
              " PosixPath('/content/Images/Tablets/179_a49d5b2b.jpg'),\n",
              " PosixPath('/content/Images/Tablets/180_94360a07.jpg'),\n",
              " PosixPath('/content/Images/Tablets/181_5c65cc44.jpg'),\n",
              " PosixPath('/content/Images/Tablets/182_6ce43016.jpg'),\n",
              " PosixPath('/content/Images/Tablets/183_bb42ab72.jpg'),\n",
              " PosixPath('/content/Images/Tablets/184_01a07dd4.jpg'),\n",
              " PosixPath('/content/Images/Tablets/185_1b4869fc.jpg'),\n",
              " PosixPath('/content/Images/Tablets/186_75b3d16e.jpg'),\n",
              " PosixPath('/content/Images/Tablets/187_4c0b6dd0.jpg'),\n",
              " PosixPath('/content/Images/Tablets/188_1c0fd36d.jpg'),\n",
              " PosixPath('/content/Images/Tablets/189_c28636e8.jpg'),\n",
              " PosixPath('/content/Images/Tablets/190_a766421d.jpg'),\n",
              " PosixPath('/content/Images/Tablets/191_25e8c9ab.jpg'),\n",
              " PosixPath('/content/Images/Tablets/192_44a52a0f.jpg'),\n",
              " PosixPath('/content/Images/Tablets/193_204180b7.jpg'),\n",
              " PosixPath('/content/Images/Tablets/194_951ad69a.jpg'),\n",
              " PosixPath('/content/Images/Tablets/195_9623751b.jpg'),\n",
              " PosixPath('/content/Images/Tablets/196_0669792f.jpg'),\n",
              " PosixPath('/content/Images/Tablets/197_9d5aa761.jpg'),\n",
              " PosixPath('/content/Images/Tablets/198_f0bd26ff.jpg'),\n",
              " PosixPath('/content/Images/Tablets/199_b7174c4c.jpg'),\n",
              " PosixPath('/content/Images/Tablets/200_e3d47264.jpg')]"
            ]
          },
          "metadata": {},
          "execution_count": 4
        }
      ]
    },
    {
      "cell_type": "code",
      "source": [
        "!pip install split-folders "
      ],
      "metadata": {
        "colab": {
          "base_uri": "https://localhost:8080/"
        },
        "id": "mUt5fBOkHpk0",
        "outputId": "eaa7cc09-831b-4af2-86b8-cc6666bf2027"
      },
      "execution_count": 6,
      "outputs": [
        {
          "output_type": "stream",
          "name": "stdout",
          "text": [
            "Looking in indexes: https://pypi.org/simple, https://us-python.pkg.dev/colab-wheels/public/simple/\n",
            "Collecting split-folders\n",
            "  Downloading split_folders-0.5.1-py3-none-any.whl (8.4 kB)\n",
            "Installing collected packages: split-folders\n",
            "Successfully installed split-folders-0.5.1\n"
          ]
        }
      ]
    },
    {
      "cell_type": "code",
      "source": [
        "%cd /content"
      ],
      "metadata": {
        "colab": {
          "base_uri": "https://localhost:8080/"
        },
        "id": "dTlT2bDzHtxH",
        "outputId": "c818001e-add9-4638-f1f1-46e301cc38c8"
      },
      "execution_count": 8,
      "outputs": [
        {
          "output_type": "stream",
          "name": "stdout",
          "text": [
            "/content\n"
          ]
        }
      ]
    },
    {
      "cell_type": "code",
      "source": [
        "import os\n",
        "import splitfolders\n",
        "\n",
        "splitfolders.ratio('./Images', output=\"Processed_Data\", seed=1337, ratio=(.8, 0.1,0.1)) "
      ],
      "metadata": {
        "id": "YlXIOTs5JTm4"
      },
      "execution_count": 7,
      "outputs": []
    },
    {
      "cell_type": "code",
      "source": [
        "!git clone https://github.com/yuzhenglim/AI_APP_SVM"
      ],
      "metadata": {
        "colab": {
          "base_uri": "https://localhost:8080/"
        },
        "id": "V5ydael8HGfo",
        "outputId": "62d95ee2-bf78-4263-c03d-123fea49db93"
      },
      "execution_count": 1,
      "outputs": [
        {
          "output_type": "stream",
          "name": "stdout",
          "text": [
            "Cloning into 'AI_APP_SVM'...\n",
            "remote: Enumerating objects: 1684, done.\u001b[K\n",
            "remote: Counting objects: 100% (6/6), done.\u001b[K\n",
            "remote: Compressing objects: 100% (6/6), done.\u001b[K\n",
            "remote: Total 1684 (delta 2), reused 0 (delta 0), pack-reused 1678\u001b[K\n",
            "Receiving objects: 100% (1684/1684), 173.93 MiB | 29.03 MiB/s, done.\n",
            "Resolving deltas: 100% (52/52), done.\n",
            "Checking out files: 100% (2817/2817), done.\n"
          ]
        }
      ]
    },
    {
      "cell_type": "code",
      "source": [
        "# importing libraries\n",
        "\n",
        "import zipfile\n",
        "import glob\n",
        "import numpy as np\n",
        "import pandas as pd\n",
        "import matplotlib.pyplot as plt\n",
        "import seaborn as sns\n",
        "import matplotlib.cm as cm\n",
        "import keras\n",
        "import cv2\n",
        "%matplotlib inline\n",
        "#import K-Means\n",
        "from sklearn.cluster import KMeans\n",
        "# important metrics\n",
        "from sklearn.metrics import accuracy_score\n",
        "from sklearn.metrics import confusion_matrix\n",
        "from sklearn.cluster import MiniBatchKMeans"
      ],
      "metadata": {
        "id": "dSTqr5k0joEG"
      },
      "execution_count": 3,
      "outputs": []
    },
    {
      "cell_type": "code",
      "source": [
        "data = []\n",
        "label = []\n",
        "# path = \"./Processed_Data/train/\"  #If running without git clone\n",
        "path = \"./AI_APP_SVM/Processed_Data/train/\" #Running with git clone\n",
        "d = 0\n",
        "dm = 0\n",
        "l = 0\n",
        "m = 0\n",
        "p = 0\n",
        "r = 0\n",
        "t = 0\n",
        "IMG_SIZE = 32\n",
        "for file in os.listdir(path):\n",
        "  for img_reading in os.listdir(path+file):\n",
        "      img=cv2.imread(path+file+'/'+img_reading)\n",
        "      img=cv2.resize(img,(IMG_SIZE,IMG_SIZE))\n",
        "      img=img.astype('float32')\n",
        "      if file =='Desktop':\n",
        "        d+=1\n",
        "        label.append(\"Desktop\")\n",
        "      elif file == 'Desktop Monitors':\n",
        "        dm+=1\n",
        "        label.append(\"Desktop Monitors\")\n",
        "      elif file == 'Laptops':\n",
        "        l+=1\n",
        "        label.append(\"Laptops\")\n",
        "      elif file == 'Modem':\n",
        "        m+=1\n",
        "        label.append(\"Modem\")\n",
        "      elif file == 'Printer':\n",
        "        p+=1\n",
        "        label.append(\"Printer\")\n",
        "      elif file == 'Router':\n",
        "        r+=1\n",
        "        label.append(\"Router\")\n",
        "      elif file == 'Tablets':\n",
        "        t+=1\n",
        "        label.append(\"Tablets\")\n",
        "      data.append(img)\n",
        "data = np.array(data)"
      ],
      "metadata": {
        "id": "tt1GN-3Ejs7f"
      },
      "execution_count": 9,
      "outputs": []
    },
    {
      "cell_type": "code",
      "source": [
        "data_label = []\n",
        "for i in label:\n",
        "    if i==\"Desktop\": data_label.append(0)\n",
        "    elif i==\"Desktop Monitors\": data_label.append(1)\n",
        "    elif i==\"Laptops\": data_label.append(2)\n",
        "    elif i==\"Modem\": data_label.append(3)\n",
        "    elif i==\"Printer\": data_label.append(4)\n",
        "    elif i==\"Router\": data_label.append(5)\n",
        "    elif i==\"Tablets\": data_label.append(6)\n",
        "\n",
        "data_label = np.array(data_label)"
      ],
      "metadata": {
        "id": "C0TLatlYpGI8"
      },
      "execution_count": null,
      "outputs": []
    },
    {
      "cell_type": "code",
      "source": [
        "data = data/255.0\n",
        "reshaped_data = data.reshape(len(data),-1)\n",
        "reshaped_data.shape"
      ],
      "metadata": {
        "colab": {
          "base_uri": "https://localhost:8080/"
        },
        "id": "6xy-Yd5ipsAw",
        "outputId": "4b13515f-484d-4edd-9de9-e718fe4efab5"
      },
      "execution_count": null,
      "outputs": [
        {
          "output_type": "execute_result",
          "data": {
            "text/plain": [
              "(1120, 3072)"
            ]
          },
          "metadata": {},
          "execution_count": 11
        }
      ]
    },
    {
      "cell_type": "code",
      "source": [
        "kmeans = KMeans(n_clusters=7, random_state=0)\n",
        "clusters = kmeans.fit_predict(reshaped_data)\n",
        "kmeans.cluster_centers_.shape"
      ],
      "metadata": {
        "colab": {
          "base_uri": "https://localhost:8080/"
        },
        "id": "jtkvjjEnp6N2",
        "outputId": "04dd1581-3a1f-4c33-9355-e6e1df0d2bf6"
      },
      "execution_count": null,
      "outputs": [
        {
          "output_type": "execute_result",
          "data": {
            "text/plain": [
              "(7, 3072)"
            ]
          },
          "metadata": {},
          "execution_count": 12
        }
      ]
    },
    {
      "cell_type": "code",
      "source": [
        "x_data = [i for i in range(3072)]\n",
        "plt.scatter(x_data,kmeans.cluster_centers_[0], color = 'red',alpha=0.2,s=10)\n",
        "plt.scatter(x_data,kmeans.cluster_centers_[1] , color = 'blue',alpha=0.2,s=40)\n",
        "plt.scatter(x_data,kmeans.cluster_centers_[2] , color = 'green',alpha=0.2,s=70)\n",
        "plt.scatter(x_data,kmeans.cluster_centers_[3] , color = 'pink',alpha=0.2,s=100)\n",
        "plt.scatter(x_data,kmeans.cluster_centers_[4] , color = 'brown',alpha=0.2,s=130)\n",
        "plt.scatter(x_data,kmeans.cluster_centers_[5] , color = 'black',alpha=0.2,s=160)\n",
        "plt.scatter(x_data,kmeans.cluster_centers_[6] , color = 'teal',alpha=0.2,s=190)"
      ],
      "metadata": {
        "colab": {
          "base_uri": "https://localhost:8080/",
          "height": 282
        },
        "id": "PKY7T2krqWiD",
        "outputId": "75f8884d-64e3-4f62-879c-10617965a085"
      },
      "execution_count": null,
      "outputs": [
        {
          "output_type": "execute_result",
          "data": {
            "text/plain": [
              "<matplotlib.collections.PathCollection at 0x7fcc88de2c10>"
            ]
          },
          "metadata": {},
          "execution_count": 13
        },
        {
          "output_type": "display_data",
          "data": {
            "text/plain": [
              "<Figure size 432x288 with 1 Axes>"
            ],
            "image/png": "[encoded data removed]"
          },
          "metadata": {
            "needs_background": "light"
          }
        }
      ]
    },
    {
      "cell_type": "code",
      "source": [
        "def get_reference_dict(clusters,data_label):\n",
        "    reference_label = {}\n",
        "    # For loop to run through each label of cluster label\n",
        "    for i in range(len(np.unique(clusters))):\n",
        "        index = np.where(clusters == i,1,0)\n",
        "        num = np.bincount(data_label[index==1]).argmax()\n",
        "        reference_label[i] = num\n",
        "    return reference_label\n",
        "# Mapping predictions to original labels\n",
        "def get_labels(clusters,refernce_labels):\n",
        "    temp_labels = np.random.rand(len(clusters))\n",
        "    for i in range(len(clusters)):\n",
        "        temp_labels[i] = reference_labels[clusters[i]]\n",
        "    return temp_labels"
      ],
      "metadata": {
        "id": "6tS1mtsgqdqm"
      },
      "execution_count": null,
      "outputs": []
    },
    {
      "cell_type": "code",
      "source": [
        "reference_labels = get_reference_dict(clusters,data_label)\n",
        "predicted_labels = get_labels(clusters,reference_labels)\n",
        "print(accuracy_score(predicted_labels,data_label))"
      ],
      "metadata": {
        "colab": {
          "base_uri": "https://localhost:8080/"
        },
        "id": "YFvHZGJZrnOt",
        "outputId": "2c4226e7-0cc1-4b80-fd1d-d85db31aeda4"
      },
      "execution_count": null,
      "outputs": [
        {
          "output_type": "stream",
          "name": "stdout",
          "text": [
            "0.3419642857142857\n"
          ]
        }
      ]
    },
    {
      "cell_type": "code",
      "source": [
        "sse = []\n",
        "list_k = [2,16,64,100,256]\n",
        "for k in list_k:\n",
        "    km = KMeans(n_clusters=k)\n",
        "    clusters = km.fit_predict(reshaped_data)\n",
        "    sse.append(km.inertia_)\n",
        "    reference_labels = get_reference_dict(clusters,data_label)\n",
        "    predicted_labels = get_labels(clusters,reference_labels)\n",
        "    print(f\"Accuracy for k = {k}: \", accuracy_score(predicted_labels,data_label))\n",
        "# Plot sse against k\n",
        "plt.figure(figsize=(6, 6))\n",
        "plt.plot(list_k, sse, '-o')\n",
        "plt.xlabel(r'Number of clusters *k*')\n",
        "plt.ylabel('Sum of squared distance');"
      ],
      "metadata": {
        "colab": {
          "base_uri": "https://localhost:8080/",
          "height": 475
        },
        "id": "3GaiLnrxsHjq",
        "outputId": "aa3e951e-90dd-4045-8b71-7f2e4707d9b0"
      },
      "execution_count": null,
      "outputs": [
        {
          "output_type": "stream",
          "name": "stdout",
          "text": [
            "Accuracy for k = 2:  0.2017857142857143\n",
            "Accuracy for k = 16:  0.4375\n",
            "Accuracy for k = 64:  0.5160714285714286\n",
            "Accuracy for k = 100:  0.5455357142857142\n",
            "Accuracy for k = 256:  0.6544642857142857\n"
          ]
        },
        {
          "output_type": "display_data",
          "data": {
            "text/plain": [
              "<Figure size 432x432 with 1 Axes>"
            ],
            "image/png": "[encoded data removed]"
          },
          "metadata": {
            "needs_background": "light"
          }
        }
      ]
    },
    {
      "cell_type": "code",
      "source": [
        "#CNN, transfer learning\n",
        "import tensorflow as tf\n",
        "import keras\n",
        "from tensorflow.keras.applications.resnet50 import preprocess_input, ResNet50\n",
        "from tensorflow.keras.preprocessing import image\n",
        "\n",
        "model = ResNet50(weights='imagenet', include_top=False, input_shape=(IMG_SIZE, IMG_SIZE,3))\n",
        "\n",
        "def extract_vector(data_holder):\n",
        "\n",
        "    resnet_feature_list = []\n",
        "\n",
        "    for im in data_holder:\n",
        "\n",
        "        im = image.img_to_array(im) \n",
        "\n",
        "        img = preprocess_input(np.expand_dims(im.copy(), axis=0))\n",
        "\n",
        "        resnet_feature = model.predict(img)\n",
        "\n",
        "        resnet_feature_np = np.array(resnet_feature)\n",
        "\n",
        "        resnet_feature_list.append(resnet_feature_np.flatten())\n",
        "        \n",
        "    return np.array(resnet_feature_list)\n"
      ],
      "metadata": {
        "colab": {
          "base_uri": "https://localhost:8080/"
        },
        "id": "QpVl7xbltECJ",
        "outputId": "76cadbc8-657c-4897-a55a-1b634a92f162"
      },
      "execution_count": null,
      "outputs": [
        {
          "output_type": "stream",
          "name": "stdout",
          "text": [
            "Downloading data from https://storage.googleapis.com/tensorflow/keras-applications/resnet/resnet50_weights_tf_dim_ordering_tf_kernels_notop.h5\n",
            "94773248/94765736 [==============================] - 1s 0us/step\n",
            "94781440/94765736 [==============================] - 1s 0us/step\n"
          ]
        }
      ]
    },
    {
      "cell_type": "code",
      "source": [
        "array = extract_vector(data)\n",
        "kmeans_resnet = KMeans(n_clusters=7, random_state=0)\n",
        "clusters = kmeans_resnet.fit_predict(array)\n",
        "print(accuracy_score(predicted_labels,data_label))\n",
        "mat = confusion_matrix(data_label,predicted_labels )\n",
        "sns.heatmap(mat, annot=True)\n",
        "plt.ylabel('true label')\n",
        "plt.xlabel('predicted label')"
      ],
      "metadata": {
        "colab": {
          "base_uri": "https://localhost:8080/",
          "height": 314
        },
        "id": "fyM1tZh9xkxc",
        "outputId": "47be170b-192f-4a48-c976-6160cca93d96"
      },
      "execution_count": null,
      "outputs": [
        {
          "output_type": "stream",
          "name": "stdout",
          "text": [
            "0.6544642857142857\n"
          ]
        },
        {
          "output_type": "execute_result",
          "data": {
            "text/plain": [
              "Text(0.5, 15.0, 'predicted label')"
            ]
          },
          "metadata": {},
          "execution_count": 18
        },
        {
          "output_type": "display_data",
          "data": {
            "text/plain": [
              "<Figure size 432x288 with 2 Axes>"
            ],
            "image/png": "[encoded data removed]"
          },
          "metadata": {
            "needs_background": "light"
          }
        }
      ]
    },
    {
      "cell_type": "code",
      "source": [
        "centroids = kmeans_resnet.cluster_centers_\n",
        "centroids.shape\n"
      ],
      "metadata": {
        "colab": {
          "base_uri": "https://localhost:8080/"
        },
        "id": "MJWRVUI749wN",
        "outputId": "b3ac7643-e801-4898-a40f-6d1ba0f92003"
      },
      "execution_count": null,
      "outputs": [
        {
          "output_type": "execute_result",
          "data": {
            "text/plain": [
              "(7, 2048)"
            ]
          },
          "metadata": {},
          "execution_count": 21
        }
      ]
    },
    {
      "cell_type": "code",
      "source": [
        "image = plt.imread('/content/Processed_Data/train/Desktop/036_f41e109f.jpg')\n",
        "plt.imshow(image)"
      ],
      "metadata": {
        "colab": {
          "base_uri": "https://localhost:8080/",
          "height": 286
        },
        "id": "-pupBC3l5ean",
        "outputId": "6f536b03-e858-4462-f62a-fdf5dfd7b592"
      },
      "execution_count": null,
      "outputs": [
        {
          "output_type": "execute_result",
          "data": {
            "text/plain": [
              "<matplotlib.image.AxesImage at 0x7fcc822f49d0>"
            ]
          },
          "metadata": {},
          "execution_count": 37
        },
        {
          "output_type": "display_data",
          "data": {
            "text/plain": [
              "<Figure size 432x288 with 1 Axes>"
            ],
            "image/png": "[encoded data removed]"
          },
          "metadata": {
            "needs_background": "light"
          }
        }
      ]
    },
    {
      "cell_type": "code",
      "source": [
        "image.shape"
      ],
      "metadata": {
        "colab": {
          "base_uri": "https://localhost:8080/"
        },
        "id": "-K_A1KC75o1T",
        "outputId": "ea4fdebf-2d61-4660-d3cb-26d921f3a3d7"
      },
      "execution_count": null,
      "outputs": [
        {
          "output_type": "execute_result",
          "data": {
            "text/plain": [
              "(474, 474, 3)"
            ]
          },
          "metadata": {},
          "execution_count": 38
        }
      ]
    },
    {
      "cell_type": "code",
      "source": [
        "image = cv2.resize(img,(32,32))\n",
        "image = image.reshape(1,3072)\n",
        "image.shape\n",
        "# test_data = [image]"
      ],
      "metadata": {
        "colab": {
          "base_uri": "https://localhost:8080/"
        },
        "id": "Odf-bDHa5uvZ",
        "outputId": "d035a2db-1802-4ce2-8f1e-8e2a8ff18660"
      },
      "execution_count": null,
      "outputs": [
        {
          "output_type": "execute_result",
          "data": {
            "text/plain": [
              "(1, 3072)"
            ]
          },
          "metadata": {},
          "execution_count": 44
        }
      ]
    },
    {
      "cell_type": "code",
      "source": [
        "reference_labels = get_reference_dict(kmeans.labels_,data_label)\n",
        "number_labels = np.random.rand(len(kmeans.labels_))\n",
        "for i in range(len(kmeans.labels_)):\n",
        "  number_labels[i] = reference_labels[kmeans.labels_[i]]"
      ],
      "metadata": {
        "id": "eI0E3c0w_CAf"
      },
      "execution_count": null,
      "outputs": []
    },
    {
      "cell_type": "code",
      "source": [
        "predicted_cluster = kmeans.predict(image)"
      ],
      "metadata": {
        "id": "wqAQWDF1_e6M"
      },
      "execution_count": null,
      "outputs": []
    },
    {
      "cell_type": "code",
      "source": [
        "number_labels[[predicted_cluster]]"
      ],
      "metadata": {
        "colab": {
          "base_uri": "https://localhost:8080/"
        },
        "id": "YnqbMMYhBJJL",
        "outputId": "5addf32f-cc50-41fe-c315-82be74fc9a91"
      },
      "execution_count": null,
      "outputs": [
        {
          "output_type": "stream",
          "name": "stderr",
          "text": [
            "/usr/local/lib/python3.7/dist-packages/ipykernel_launcher.py:1: FutureWarning: Using a non-tuple sequence for multidimensional indexing is deprecated; use `arr[tuple(seq)]` instead of `arr[seq]`. In the future this will be interpreted as an array index, `arr[np.array(seq)]`, which will result either in an error or a different result.\n",
            "  \"\"\"Entry point for launching an IPython kernel.\n"
          ]
        },
        {
          "output_type": "execute_result",
          "data": {
            "text/plain": [
              "array([2.])"
            ]
          },
          "metadata": {},
          "execution_count": 52
        }
      ]
    }
  ]
}